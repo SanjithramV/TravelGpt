{
 "cells": [
  {
   "cell_type": "markdown",
   "metadata": {},
   "source": [
    "# 🌍 TravelGPT Demo\n",
    "This notebook demonstrates how to use TravelGPT to generate AI-based travel itineraries."
   ]
  },
  {
   "cell_type": "code",
   "execution_count": null,
   "metadata": {},
   "outputs": [],
   "source": [
    "from src.tools import get_weather, get_places\n",
    "from src.agent import generate_itinerary\n",
    "from src.utils import format_itinerary\n",
    "from src.config import OPENAI_API_KEY\n",
    "\n",
    "city = \"Paris\"\n",
    "days = 3\n",
    "\n",
    "weather = get_weather(city)\n",
    "attractions = get_places(city)\n",
    "\n",
    "print(\"Weather:\", weather)\n",
    "print(\"Attractions:", attractions)\n",
    "\n",
    "itinerary = generate_itinerary(city, days, weather, attractions)\n",
    "print(itinerary)"
   ]
  }
 ],
 "metadata": {
  "kernelspec": {
   "display_name": "Python 3",
   "language": "python",
   "name": "python3"
  },
  "language_info": {
   "name": "python",
   "version": "3.9"
  }
 },
 "nbformat": 4,
 "nbformat_minor": 2
}
